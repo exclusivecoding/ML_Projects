{
 "cells": [
  {
   "cell_type": "markdown",
   "id": "0deecf66",
   "metadata": {},
   "source": [
    "# Loan Defaulters Prediction"
   ]
  },
  {
   "cell_type": "markdown",
   "id": "146967c6",
   "metadata": {},
   "source": [
    "Aim : whether a person will get loan or not ?\n",
    "Ex : As per the data we want to find a new person with information and bank balance will get the loan or not"
   ]
  },
  {
   "cell_type": "code",
   "execution_count": 1,
   "id": "34dde813",
   "metadata": {},
   "outputs": [],
   "source": [
    "import pandas as pd "
   ]
  },
  {
   "cell_type": "code",
   "execution_count": 2,
   "id": "2d2a68db",
   "metadata": {},
   "outputs": [],
   "source": [
    "main_data = pd.read_csv(r\"E:\\DATA-SCIENCE\\Project\\LoanDefaulters\\binaryclassification-predicting-defaulters-dataset.csv\")"
   ]
  },
  {
   "cell_type": "code",
   "execution_count": 3,
   "id": "0631a83c",
   "metadata": {},
   "outputs": [
    {
     "data": {
      "text/html": [
       "<div>\n",
       "<style scoped>\n",
       "    .dataframe tbody tr th:only-of-type {\n",
       "        vertical-align: middle;\n",
       "    }\n",
       "\n",
       "    .dataframe tbody tr th {\n",
       "        vertical-align: top;\n",
       "    }\n",
       "\n",
       "    .dataframe thead th {\n",
       "        text-align: right;\n",
       "    }\n",
       "</style>\n",
       "<table border=\"1\" class=\"dataframe\">\n",
       "  <thead>\n",
       "    <tr style=\"text-align: right;\">\n",
       "      <th></th>\n",
       "      <th>Response</th>\n",
       "      <th>Age</th>\n",
       "      <th>Job</th>\n",
       "      <th>Marital Status</th>\n",
       "      <th>Education</th>\n",
       "      <th>balance</th>\n",
       "      <th>housing</th>\n",
       "      <th>loan</th>\n",
       "    </tr>\n",
       "  </thead>\n",
       "  <tbody>\n",
       "    <tr>\n",
       "      <th>0</th>\n",
       "      <td>yes</td>\n",
       "      <td>59</td>\n",
       "      <td>retired</td>\n",
       "      <td>married</td>\n",
       "      <td>secondary</td>\n",
       "      <td>49</td>\n",
       "      <td>no</td>\n",
       "      <td>yes</td>\n",
       "    </tr>\n",
       "    <tr>\n",
       "      <th>1</th>\n",
       "      <td>yes</td>\n",
       "      <td>31</td>\n",
       "      <td>services</td>\n",
       "      <td>married</td>\n",
       "      <td>tertiary</td>\n",
       "      <td>90</td>\n",
       "      <td>no</td>\n",
       "      <td>yes</td>\n",
       "    </tr>\n",
       "    <tr>\n",
       "      <th>2</th>\n",
       "      <td>yes</td>\n",
       "      <td>47</td>\n",
       "      <td>management</td>\n",
       "      <td>married</td>\n",
       "      <td>primary</td>\n",
       "      <td>145</td>\n",
       "      <td>no</td>\n",
       "      <td>yes</td>\n",
       "    </tr>\n",
       "    <tr>\n",
       "      <th>3</th>\n",
       "      <td>yes</td>\n",
       "      <td>45</td>\n",
       "      <td>unemployed</td>\n",
       "      <td>divorced</td>\n",
       "      <td>primary</td>\n",
       "      <td>249</td>\n",
       "      <td>yes</td>\n",
       "      <td>yes</td>\n",
       "    </tr>\n",
       "    <tr>\n",
       "      <th>4</th>\n",
       "      <td>yes</td>\n",
       "      <td>36</td>\n",
       "      <td>management</td>\n",
       "      <td>single</td>\n",
       "      <td>tertiary</td>\n",
       "      <td>559</td>\n",
       "      <td>yes</td>\n",
       "      <td>no</td>\n",
       "    </tr>\n",
       "  </tbody>\n",
       "</table>\n",
       "</div>"
      ],
      "text/plain": [
       "  Response  Age         Job Marital Status  Education  balance housing loan\n",
       "0      yes   59     retired        married  secondary       49      no  yes\n",
       "1      yes   31    services        married   tertiary       90      no  yes\n",
       "2      yes   47  management        married    primary      145      no  yes\n",
       "3      yes   45  unemployed       divorced    primary      249     yes  yes\n",
       "4      yes   36  management         single   tertiary      559     yes   no"
      ]
     },
     "execution_count": 3,
     "metadata": {},
     "output_type": "execute_result"
    }
   ],
   "source": [
    "main_data.head()"
   ]
  },
  {
   "cell_type": "markdown",
   "id": "e4e5aefd",
   "metadata": {},
   "source": [
    "**here mostly data in chategory let we conver it into numerical lable.**"
   ]
  },
  {
   "cell_type": "code",
   "execution_count": 4,
   "id": "7e855904",
   "metadata": {},
   "outputs": [],
   "source": [
    "X = main_data.iloc[:,:7]"
   ]
  },
  {
   "cell_type": "code",
   "execution_count": 5,
   "id": "a5fea764",
   "metadata": {},
   "outputs": [
    {
     "data": {
      "text/html": [
       "<div>\n",
       "<style scoped>\n",
       "    .dataframe tbody tr th:only-of-type {\n",
       "        vertical-align: middle;\n",
       "    }\n",
       "\n",
       "    .dataframe tbody tr th {\n",
       "        vertical-align: top;\n",
       "    }\n",
       "\n",
       "    .dataframe thead th {\n",
       "        text-align: right;\n",
       "    }\n",
       "</style>\n",
       "<table border=\"1\" class=\"dataframe\">\n",
       "  <thead>\n",
       "    <tr style=\"text-align: right;\">\n",
       "      <th></th>\n",
       "      <th>Response</th>\n",
       "      <th>Age</th>\n",
       "      <th>Job</th>\n",
       "      <th>Marital Status</th>\n",
       "      <th>Education</th>\n",
       "      <th>balance</th>\n",
       "      <th>housing</th>\n",
       "    </tr>\n",
       "  </thead>\n",
       "  <tbody>\n",
       "    <tr>\n",
       "      <th>0</th>\n",
       "      <td>yes</td>\n",
       "      <td>59</td>\n",
       "      <td>retired</td>\n",
       "      <td>married</td>\n",
       "      <td>secondary</td>\n",
       "      <td>49</td>\n",
       "      <td>no</td>\n",
       "    </tr>\n",
       "    <tr>\n",
       "      <th>1</th>\n",
       "      <td>yes</td>\n",
       "      <td>31</td>\n",
       "      <td>services</td>\n",
       "      <td>married</td>\n",
       "      <td>tertiary</td>\n",
       "      <td>90</td>\n",
       "      <td>no</td>\n",
       "    </tr>\n",
       "    <tr>\n",
       "      <th>2</th>\n",
       "      <td>yes</td>\n",
       "      <td>47</td>\n",
       "      <td>management</td>\n",
       "      <td>married</td>\n",
       "      <td>primary</td>\n",
       "      <td>145</td>\n",
       "      <td>no</td>\n",
       "    </tr>\n",
       "    <tr>\n",
       "      <th>3</th>\n",
       "      <td>yes</td>\n",
       "      <td>45</td>\n",
       "      <td>unemployed</td>\n",
       "      <td>divorced</td>\n",
       "      <td>primary</td>\n",
       "      <td>249</td>\n",
       "      <td>yes</td>\n",
       "    </tr>\n",
       "    <tr>\n",
       "      <th>4</th>\n",
       "      <td>yes</td>\n",
       "      <td>36</td>\n",
       "      <td>management</td>\n",
       "      <td>single</td>\n",
       "      <td>tertiary</td>\n",
       "      <td>559</td>\n",
       "      <td>yes</td>\n",
       "    </tr>\n",
       "    <tr>\n",
       "      <th>...</th>\n",
       "      <td>...</td>\n",
       "      <td>...</td>\n",
       "      <td>...</td>\n",
       "      <td>...</td>\n",
       "      <td>...</td>\n",
       "      <td>...</td>\n",
       "      <td>...</td>\n",
       "    </tr>\n",
       "    <tr>\n",
       "      <th>1811</th>\n",
       "      <td>yes</td>\n",
       "      <td>49</td>\n",
       "      <td>unemployed</td>\n",
       "      <td>married</td>\n",
       "      <td>primary</td>\n",
       "      <td>11</td>\n",
       "      <td>yes</td>\n",
       "    </tr>\n",
       "    <tr>\n",
       "      <th>1812</th>\n",
       "      <td>yes</td>\n",
       "      <td>43</td>\n",
       "      <td>management</td>\n",
       "      <td>single</td>\n",
       "      <td>primary</td>\n",
       "      <td>39</td>\n",
       "      <td>yes</td>\n",
       "    </tr>\n",
       "    <tr>\n",
       "      <th>1813</th>\n",
       "      <td>yes</td>\n",
       "      <td>56</td>\n",
       "      <td>technician</td>\n",
       "      <td>married</td>\n",
       "      <td>tertiary</td>\n",
       "      <td>736</td>\n",
       "      <td>no</td>\n",
       "    </tr>\n",
       "    <tr>\n",
       "      <th>1814</th>\n",
       "      <td>yes</td>\n",
       "      <td>28</td>\n",
       "      <td>unemployed</td>\n",
       "      <td>married</td>\n",
       "      <td>primary</td>\n",
       "      <td>44</td>\n",
       "      <td>yes</td>\n",
       "    </tr>\n",
       "    <tr>\n",
       "      <th>1815</th>\n",
       "      <td>yes</td>\n",
       "      <td>29</td>\n",
       "      <td>management</td>\n",
       "      <td>married</td>\n",
       "      <td>tertiary</td>\n",
       "      <td>53</td>\n",
       "      <td>yes</td>\n",
       "    </tr>\n",
       "  </tbody>\n",
       "</table>\n",
       "<p>1816 rows × 7 columns</p>\n",
       "</div>"
      ],
      "text/plain": [
       "     Response  Age         Job Marital Status  Education  balance housing\n",
       "0         yes   59     retired        married  secondary       49      no\n",
       "1         yes   31    services        married   tertiary       90      no\n",
       "2         yes   47  management        married    primary      145      no\n",
       "3         yes   45  unemployed       divorced    primary      249     yes\n",
       "4         yes   36  management         single   tertiary      559     yes\n",
       "...       ...  ...         ...            ...        ...      ...     ...\n",
       "1811      yes   49  unemployed        married    primary       11     yes\n",
       "1812      yes   43  management         single    primary       39     yes\n",
       "1813      yes   56  technician        married   tertiary      736      no\n",
       "1814      yes   28  unemployed        married    primary       44     yes\n",
       "1815      yes   29  management        married   tertiary       53     yes\n",
       "\n",
       "[1816 rows x 7 columns]"
      ]
     },
     "execution_count": 5,
     "metadata": {},
     "output_type": "execute_result"
    }
   ],
   "source": [
    "X"
   ]
  },
  {
   "cell_type": "code",
   "execution_count": 33,
   "id": "0dc893b0",
   "metadata": {},
   "outputs": [
    {
     "data": {
      "text/plain": [
       "Response\n",
       "no     1001\n",
       "yes     815\n",
       "Name: count, dtype: int64"
      ]
     },
     "execution_count": 33,
     "metadata": {},
     "output_type": "execute_result"
    }
   ],
   "source": [
    "X['Response'].value_counts()"
   ]
  },
  {
   "cell_type": "code",
   "execution_count": 13,
   "id": "1d765e1a",
   "metadata": {},
   "outputs": [],
   "source": [
    "#Ordinal encoding\n",
    "y = main_data['loan'].map({'yes':1,'no':0})"
   ]
  },
  {
   "cell_type": "code",
   "execution_count": 7,
   "id": "abbd5ed1",
   "metadata": {},
   "outputs": [
    {
     "data": {
      "text/plain": [
       "0       1\n",
       "1       1\n",
       "2       1\n",
       "3       1\n",
       "4       0\n",
       "       ..\n",
       "1811    0\n",
       "1812    0\n",
       "1813    0\n",
       "1814    0\n",
       "1815    0\n",
       "Name: loan, Length: 1816, dtype: int64"
      ]
     },
     "execution_count": 7,
     "metadata": {},
     "output_type": "execute_result"
    }
   ],
   "source": [
    "y"
   ]
  },
  {
   "cell_type": "code",
   "execution_count": 14,
   "id": "07f0bf18",
   "metadata": {},
   "outputs": [],
   "source": [
    "from sklearn.preprocessing import LabelEncoder "
   ]
  },
  {
   "cell_type": "code",
   "execution_count": 15,
   "id": "65cbd6d9",
   "metadata": {},
   "outputs": [],
   "source": [
    "Lable_Response = LabelEncoder()\n",
    "Lable_Job = LabelEncoder()\n",
    "Lable_Maritial_Status = LabelEncoder()\n",
    "Lable_Education = LabelEncoder()\n",
    "Lable_Housing = LabelEncoder()\n",
    "\n",
    "X['Response_n'] = Lable_Response.fit_transform(X['Response'])\n",
    "X['Job_n'] = Lable_Job.fit_transform(X['Job'])\n",
    "X['MaritalStatus_n'] = Lable_Maritial_Status.fit_transform(X['Marital Status'])\n",
    "X['Education_n'] = Lable_Education.fit_transform(X['Education'])\n",
    "X['housing_n'] = Lable_Housing.fit_transform(X['housing'])"
   ]
  },
  {
   "cell_type": "code",
   "execution_count": 36,
   "id": "c4781356",
   "metadata": {},
   "outputs": [
    {
     "data": {
      "text/html": [
       "<div>\n",
       "<style scoped>\n",
       "    .dataframe tbody tr th:only-of-type {\n",
       "        vertical-align: middle;\n",
       "    }\n",
       "\n",
       "    .dataframe tbody tr th {\n",
       "        vertical-align: top;\n",
       "    }\n",
       "\n",
       "    .dataframe thead th {\n",
       "        text-align: right;\n",
       "    }\n",
       "</style>\n",
       "<table border=\"1\" class=\"dataframe\">\n",
       "  <thead>\n",
       "    <tr style=\"text-align: right;\">\n",
       "      <th></th>\n",
       "      <th>Response</th>\n",
       "      <th>Age</th>\n",
       "      <th>Job</th>\n",
       "      <th>Marital Status</th>\n",
       "      <th>Education</th>\n",
       "      <th>balance</th>\n",
       "      <th>housing</th>\n",
       "      <th>Response_n</th>\n",
       "      <th>Job_n</th>\n",
       "      <th>MaritalStatus_n</th>\n",
       "      <th>Education_n</th>\n",
       "      <th>housing_n</th>\n",
       "    </tr>\n",
       "  </thead>\n",
       "  <tbody>\n",
       "    <tr>\n",
       "      <th>0</th>\n",
       "      <td>yes</td>\n",
       "      <td>59</td>\n",
       "      <td>retired</td>\n",
       "      <td>married</td>\n",
       "      <td>secondary</td>\n",
       "      <td>49</td>\n",
       "      <td>no</td>\n",
       "      <td>1</td>\n",
       "      <td>5</td>\n",
       "      <td>1</td>\n",
       "      <td>1</td>\n",
       "      <td>0</td>\n",
       "    </tr>\n",
       "    <tr>\n",
       "      <th>1</th>\n",
       "      <td>yes</td>\n",
       "      <td>31</td>\n",
       "      <td>services</td>\n",
       "      <td>married</td>\n",
       "      <td>tertiary</td>\n",
       "      <td>90</td>\n",
       "      <td>no</td>\n",
       "      <td>1</td>\n",
       "      <td>7</td>\n",
       "      <td>1</td>\n",
       "      <td>2</td>\n",
       "      <td>0</td>\n",
       "    </tr>\n",
       "    <tr>\n",
       "      <th>2</th>\n",
       "      <td>yes</td>\n",
       "      <td>47</td>\n",
       "      <td>management</td>\n",
       "      <td>married</td>\n",
       "      <td>primary</td>\n",
       "      <td>145</td>\n",
       "      <td>no</td>\n",
       "      <td>1</td>\n",
       "      <td>4</td>\n",
       "      <td>1</td>\n",
       "      <td>0</td>\n",
       "      <td>0</td>\n",
       "    </tr>\n",
       "    <tr>\n",
       "      <th>3</th>\n",
       "      <td>yes</td>\n",
       "      <td>45</td>\n",
       "      <td>unemployed</td>\n",
       "      <td>divorced</td>\n",
       "      <td>primary</td>\n",
       "      <td>249</td>\n",
       "      <td>yes</td>\n",
       "      <td>1</td>\n",
       "      <td>10</td>\n",
       "      <td>0</td>\n",
       "      <td>0</td>\n",
       "      <td>1</td>\n",
       "    </tr>\n",
       "    <tr>\n",
       "      <th>4</th>\n",
       "      <td>yes</td>\n",
       "      <td>36</td>\n",
       "      <td>management</td>\n",
       "      <td>single</td>\n",
       "      <td>tertiary</td>\n",
       "      <td>559</td>\n",
       "      <td>yes</td>\n",
       "      <td>1</td>\n",
       "      <td>4</td>\n",
       "      <td>2</td>\n",
       "      <td>2</td>\n",
       "      <td>1</td>\n",
       "    </tr>\n",
       "    <tr>\n",
       "      <th>...</th>\n",
       "      <td>...</td>\n",
       "      <td>...</td>\n",
       "      <td>...</td>\n",
       "      <td>...</td>\n",
       "      <td>...</td>\n",
       "      <td>...</td>\n",
       "      <td>...</td>\n",
       "      <td>...</td>\n",
       "      <td>...</td>\n",
       "      <td>...</td>\n",
       "      <td>...</td>\n",
       "      <td>...</td>\n",
       "    </tr>\n",
       "    <tr>\n",
       "      <th>1811</th>\n",
       "      <td>yes</td>\n",
       "      <td>49</td>\n",
       "      <td>unemployed</td>\n",
       "      <td>married</td>\n",
       "      <td>primary</td>\n",
       "      <td>11</td>\n",
       "      <td>yes</td>\n",
       "      <td>1</td>\n",
       "      <td>10</td>\n",
       "      <td>1</td>\n",
       "      <td>0</td>\n",
       "      <td>1</td>\n",
       "    </tr>\n",
       "    <tr>\n",
       "      <th>1812</th>\n",
       "      <td>yes</td>\n",
       "      <td>43</td>\n",
       "      <td>management</td>\n",
       "      <td>single</td>\n",
       "      <td>primary</td>\n",
       "      <td>39</td>\n",
       "      <td>yes</td>\n",
       "      <td>1</td>\n",
       "      <td>4</td>\n",
       "      <td>2</td>\n",
       "      <td>0</td>\n",
       "      <td>1</td>\n",
       "    </tr>\n",
       "    <tr>\n",
       "      <th>1813</th>\n",
       "      <td>yes</td>\n",
       "      <td>56</td>\n",
       "      <td>technician</td>\n",
       "      <td>married</td>\n",
       "      <td>tertiary</td>\n",
       "      <td>736</td>\n",
       "      <td>no</td>\n",
       "      <td>1</td>\n",
       "      <td>9</td>\n",
       "      <td>1</td>\n",
       "      <td>2</td>\n",
       "      <td>0</td>\n",
       "    </tr>\n",
       "    <tr>\n",
       "      <th>1814</th>\n",
       "      <td>yes</td>\n",
       "      <td>28</td>\n",
       "      <td>unemployed</td>\n",
       "      <td>married</td>\n",
       "      <td>primary</td>\n",
       "      <td>44</td>\n",
       "      <td>yes</td>\n",
       "      <td>1</td>\n",
       "      <td>10</td>\n",
       "      <td>1</td>\n",
       "      <td>0</td>\n",
       "      <td>1</td>\n",
       "    </tr>\n",
       "    <tr>\n",
       "      <th>1815</th>\n",
       "      <td>yes</td>\n",
       "      <td>29</td>\n",
       "      <td>management</td>\n",
       "      <td>married</td>\n",
       "      <td>tertiary</td>\n",
       "      <td>53</td>\n",
       "      <td>yes</td>\n",
       "      <td>1</td>\n",
       "      <td>4</td>\n",
       "      <td>1</td>\n",
       "      <td>2</td>\n",
       "      <td>1</td>\n",
       "    </tr>\n",
       "  </tbody>\n",
       "</table>\n",
       "<p>1816 rows × 12 columns</p>\n",
       "</div>"
      ],
      "text/plain": [
       "     Response  Age         Job Marital Status  Education  balance housing   \n",
       "0         yes   59     retired        married  secondary       49      no  \\\n",
       "1         yes   31    services        married   tertiary       90      no   \n",
       "2         yes   47  management        married    primary      145      no   \n",
       "3         yes   45  unemployed       divorced    primary      249     yes   \n",
       "4         yes   36  management         single   tertiary      559     yes   \n",
       "...       ...  ...         ...            ...        ...      ...     ...   \n",
       "1811      yes   49  unemployed        married    primary       11     yes   \n",
       "1812      yes   43  management         single    primary       39     yes   \n",
       "1813      yes   56  technician        married   tertiary      736      no   \n",
       "1814      yes   28  unemployed        married    primary       44     yes   \n",
       "1815      yes   29  management        married   tertiary       53     yes   \n",
       "\n",
       "      Response_n  Job_n  MaritalStatus_n  Education_n  housing_n  \n",
       "0              1      5                1            1          0  \n",
       "1              1      7                1            2          0  \n",
       "2              1      4                1            0          0  \n",
       "3              1     10                0            0          1  \n",
       "4              1      4                2            2          1  \n",
       "...          ...    ...              ...          ...        ...  \n",
       "1811           1     10                1            0          1  \n",
       "1812           1      4                2            0          1  \n",
       "1813           1      9                1            2          0  \n",
       "1814           1     10                1            0          1  \n",
       "1815           1      4                1            2          1  \n",
       "\n",
       "[1816 rows x 12 columns]"
      ]
     },
     "execution_count": 36,
     "metadata": {},
     "output_type": "execute_result"
    }
   ],
   "source": [
    "X"
   ]
  },
  {
   "cell_type": "code",
   "execution_count": 13,
   "id": "194414f6",
   "metadata": {},
   "outputs": [],
   "source": [
    "#here we drop the chategory data also job labled data as its has high labled values..\n",
    "#X.drop(['Response','Job','Marital Status','Education','housing','Job_n'],axis=1,inplace=True)"
   ]
  },
  {
   "cell_type": "code",
   "execution_count": 16,
   "id": "23caefcb",
   "metadata": {},
   "outputs": [],
   "source": [
    "X_new = X[['Response_n','MaritalStatus_n','Education_n','housing_n','balance','Age']]"
   ]
  },
  {
   "cell_type": "code",
   "execution_count": 17,
   "id": "9dc9cb40",
   "metadata": {},
   "outputs": [
    {
     "data": {
      "text/plain": [
       "Response_n         0\n",
       "MaritalStatus_n    0\n",
       "Education_n        0\n",
       "housing_n          0\n",
       "balance            0\n",
       "Age                0\n",
       "dtype: int64"
      ]
     },
     "execution_count": 17,
     "metadata": {},
     "output_type": "execute_result"
    }
   ],
   "source": [
    "#Data cleaning \n",
    "X_new.isna().sum()"
   ]
  },
  {
   "cell_type": "code",
   "execution_count": 13,
   "id": "54d7603b",
   "metadata": {},
   "outputs": [
    {
     "data": {
      "text/plain": [
       "0"
      ]
     },
     "execution_count": 13,
     "metadata": {},
     "output_type": "execute_result"
    }
   ],
   "source": [
    "y.isna().sum()"
   ]
  },
  {
   "cell_type": "markdown",
   "id": "43bb6aea",
   "metadata": {},
   "source": [
    "# Model Development"
   ]
  },
  {
   "cell_type": "code",
   "execution_count": 18,
   "id": "c3236b18",
   "metadata": {},
   "outputs": [],
   "source": [
    "#let we first split the data\n",
    "from sklearn.model_selection import train_test_split \n",
    "X_train,X_test,Y_train,Y_test = train_test_split(X_new,y,test_size=0.2)"
   ]
  },
  {
   "cell_type": "code",
   "execution_count": 81,
   "id": "e71a1f44",
   "metadata": {},
   "outputs": [
    {
     "data": {
      "text/html": [
       "<div>\n",
       "<style scoped>\n",
       "    .dataframe tbody tr th:only-of-type {\n",
       "        vertical-align: middle;\n",
       "    }\n",
       "\n",
       "    .dataframe tbody tr th {\n",
       "        vertical-align: top;\n",
       "    }\n",
       "\n",
       "    .dataframe thead th {\n",
       "        text-align: right;\n",
       "    }\n",
       "</style>\n",
       "<table border=\"1\" class=\"dataframe\">\n",
       "  <thead>\n",
       "    <tr style=\"text-align: right;\">\n",
       "      <th></th>\n",
       "      <th>Response_n</th>\n",
       "      <th>MaritalStatus_n</th>\n",
       "      <th>Education_n</th>\n",
       "      <th>housing_n</th>\n",
       "      <th>balance</th>\n",
       "      <th>Age</th>\n",
       "    </tr>\n",
       "  </thead>\n",
       "  <tbody>\n",
       "    <tr>\n",
       "      <th>863</th>\n",
       "      <td>0</td>\n",
       "      <td>1</td>\n",
       "      <td>0</td>\n",
       "      <td>1</td>\n",
       "      <td>162</td>\n",
       "      <td>57</td>\n",
       "    </tr>\n",
       "    <tr>\n",
       "      <th>1609</th>\n",
       "      <td>1</td>\n",
       "      <td>2</td>\n",
       "      <td>1</td>\n",
       "      <td>1</td>\n",
       "      <td>4</td>\n",
       "      <td>30</td>\n",
       "    </tr>\n",
       "    <tr>\n",
       "      <th>1461</th>\n",
       "      <td>1</td>\n",
       "      <td>2</td>\n",
       "      <td>2</td>\n",
       "      <td>1</td>\n",
       "      <td>130</td>\n",
       "      <td>26</td>\n",
       "    </tr>\n",
       "    <tr>\n",
       "      <th>309</th>\n",
       "      <td>0</td>\n",
       "      <td>1</td>\n",
       "      <td>0</td>\n",
       "      <td>0</td>\n",
       "      <td>965</td>\n",
       "      <td>46</td>\n",
       "    </tr>\n",
       "    <tr>\n",
       "      <th>1451</th>\n",
       "      <td>1</td>\n",
       "      <td>1</td>\n",
       "      <td>2</td>\n",
       "      <td>0</td>\n",
       "      <td>540</td>\n",
       "      <td>38</td>\n",
       "    </tr>\n",
       "  </tbody>\n",
       "</table>\n",
       "</div>"
      ],
      "text/plain": [
       "      Response_n  MaritalStatus_n  Education_n  housing_n  balance  Age\n",
       "863            0                1            0          1      162   57\n",
       "1609           1                2            1          1        4   30\n",
       "1461           1                2            2          1      130   26\n",
       "309            0                1            0          0      965   46\n",
       "1451           1                1            2          0      540   38"
      ]
     },
     "execution_count": 81,
     "metadata": {},
     "output_type": "execute_result"
    }
   ],
   "source": [
    "X_train.head()"
   ]
  },
  {
   "cell_type": "code",
   "execution_count": 82,
   "id": "1206b374",
   "metadata": {},
   "outputs": [
    {
     "data": {
      "text/plain": [
       "((364, 6), (1452, 6), (364,))"
      ]
     },
     "execution_count": 82,
     "metadata": {},
     "output_type": "execute_result"
    }
   ],
   "source": [
    "X_test.shape,X_train.shape,Y_test.shape"
   ]
  },
  {
   "cell_type": "code",
   "execution_count": 19,
   "id": "d478f887",
   "metadata": {},
   "outputs": [],
   "source": [
    "from sklearn.tree import DecisionTreeClassifier "
   ]
  },
  {
   "cell_type": "code",
   "execution_count": 52,
   "id": "46c1a9d8",
   "metadata": {},
   "outputs": [],
   "source": [
    "dt = DecisionTreeClassifier()\n",
    "DT_model = dt.fit(X_train,Y_train)"
   ]
  },
  {
   "cell_type": "code",
   "execution_count": 53,
   "id": "0a08dad8",
   "metadata": {},
   "outputs": [
    {
     "data": {
      "text/plain": [
       "0.9965564738292011"
      ]
     },
     "execution_count": 53,
     "metadata": {},
     "output_type": "execute_result"
    }
   ],
   "source": [
    "DT_model.score(X_train,Y_train)"
   ]
  },
  {
   "cell_type": "code",
   "execution_count": 54,
   "id": "b7c6ec57",
   "metadata": {},
   "outputs": [],
   "source": [
    "DT_predict = DT_model.predict(X_test)"
   ]
  },
  {
   "cell_type": "code",
   "execution_count": 55,
   "id": "fd8b5109",
   "metadata": {},
   "outputs": [
    {
     "name": "stdout",
     "output_type": "stream",
     "text": [
      "Accuracy check: 0.6730769230769231\n"
     ]
    }
   ],
   "source": [
    "#accuracy check \n",
    "from sklearn.metrics import accuracy_score\n",
    "print(\"Accuracy check:\",accuracy_score(Y_test,DT_predict)) #Accuracy is low  "
   ]
  },
  {
   "cell_type": "code",
   "execution_count": 56,
   "id": "eae012d5",
   "metadata": {},
   "outputs": [
    {
     "data": {
      "text/plain": [
       "Index(['Response_n', 'MaritalStatus_n', 'Education_n', 'housing_n', 'balance',\n",
       "       'Age'],\n",
       "      dtype='object')"
      ]
     },
     "execution_count": 56,
     "metadata": {},
     "output_type": "execute_result"
    }
   ],
   "source": [
    "X_train.columns"
   ]
  },
  {
   "cell_type": "code",
   "execution_count": 57,
   "id": "0edc31e5",
   "metadata": {},
   "outputs": [
    {
     "data": {
      "text/plain": [
       "Response_n\n",
       "0    805\n",
       "1    647\n",
       "Name: count, dtype: int64"
      ]
     },
     "execution_count": 57,
     "metadata": {},
     "output_type": "execute_result"
    }
   ],
   "source": [
    "X_train['Response_n'].value_counts()"
   ]
  },
  {
   "cell_type": "code",
   "execution_count": 58,
   "id": "8b07278c",
   "metadata": {},
   "outputs": [
    {
     "name": "stdout",
     "output_type": "stream",
     "text": [
      "divorced:0\n",
      "married:1\n",
      "single:2\n"
     ]
    }
   ],
   "source": [
    "ul = Lable_Maritial_Status.classes_\n",
    "lable_maping = dict(zip(ul,range(len(ul))))\n",
    "for label,encoding in lable_maping.items():\n",
    "    print(f\"{label}:{encoding}\")"
   ]
  },
  {
   "cell_type": "code",
   "execution_count": 62,
   "id": "07429b01",
   "metadata": {},
   "outputs": [
    {
     "name": "stdout",
     "output_type": "stream",
     "text": [
      "no:0\n",
      "yes:1\n",
      "divorced:0\n",
      "married:1\n",
      "single:2\n",
      "primary:0\n",
      "secondary:1\n",
      "tertiary:2\n",
      "unknown:3\n",
      "no:0\n",
      "yes:1\n"
     ]
    }
   ],
   "source": [
    "label_en = [Lable_Response,Lable_Maritial_Status,Lable_Education,Lable_Housing]\n",
    "for le in label_en:\n",
    "    unique_lb = le.classes_\n",
    "    lable_mapp = dict(zip(unique_lb,range(len(unique_lb))))\n",
    "    for l,e in lable_mapp.items():\n",
    "        print(f\"{l}:{e}\")"
   ]
  },
  {
   "cell_type": "code",
   "execution_count": 42,
   "id": "dedc529a",
   "metadata": {},
   "outputs": [
    {
     "name": "stdout",
     "output_type": "stream",
     "text": [
      "Loan Accepted\n"
     ]
    },
    {
     "name": "stderr",
     "output_type": "stream",
     "text": [
      "C:\\Users\\Tejas\\AppData\\Local\\Programs\\Python\\Python310\\lib\\site-packages\\sklearn\\base.py:439: UserWarning: X does not have valid feature names, but DecisionTreeClassifier was fitted with feature names\n",
      "  warnings.warn(\n"
     ]
    }
   ],
   "source": [
    "#User prediction \n",
    "#Response_n\tMaritalStatus_n\tEducation_n\thousing_n\n",
    "user_pred = DT_model.predict([[0,1,1,1,50000,59]])   #Response = no,Married,Secondry,housing = yes,balance,age\n",
    "if user_pred == 0:\n",
    "    print(\"Loan rejected\")\n",
    "else:\n",
    "    print(\"Loan Accepted\") "
   ]
  },
  {
   "cell_type": "code",
   "execution_count": 89,
   "id": "f96a55e7",
   "metadata": {},
   "outputs": [
    {
     "name": "stdout",
     "output_type": "stream",
     "text": [
      "DT cross validation Score: [0.71821306 0.68728522 0.6862069  0.66896552 0.64827586]\n"
     ]
    }
   ],
   "source": [
    "#Cross validation of model \n",
    "from sklearn.model_selection import cross_val_score\n",
    "DT_cv_score = cross_val_score(DT_model,X_train,Y_train,cv=5,scoring=\"accuracy\")\n",
    "print(\"DT cross validation Score:\",DT_cv_score)"
   ]
  },
  {
   "cell_type": "code",
   "execution_count": 69,
   "id": "462650e9",
   "metadata": {},
   "outputs": [],
   "source": [
    "#prob = DT_model.predict_proba(X_test)\n",
    "#print(\"Class proba:\\n\",prob)"
   ]
  },
  {
   "cell_type": "code",
   "execution_count": 35,
   "id": "6764c8d1",
   "metadata": {},
   "outputs": [
    {
     "data": {
      "text/plain": [
       "Index(['Age', 'balance', 'Response_n', 'MaritalStatus_n', 'Education_n',\n",
       "       'housing_n'],\n",
       "      dtype='object')"
      ]
     },
     "execution_count": 35,
     "metadata": {},
     "output_type": "execute_result"
    }
   ],
   "source": [
    "#let we make another model with drop some columns\n",
    "X.columns"
   ]
  },
  {
   "cell_type": "code",
   "execution_count": 24,
   "id": "49f92710",
   "metadata": {},
   "outputs": [],
   "source": [
    "X_ = X[['Age','balance','Response_n','MaritalStatus_n','housing_n']]"
   ]
  },
  {
   "cell_type": "code",
   "execution_count": 25,
   "id": "73806562",
   "metadata": {},
   "outputs": [
    {
     "data": {
      "text/html": [
       "<div>\n",
       "<style scoped>\n",
       "    .dataframe tbody tr th:only-of-type {\n",
       "        vertical-align: middle;\n",
       "    }\n",
       "\n",
       "    .dataframe tbody tr th {\n",
       "        vertical-align: top;\n",
       "    }\n",
       "\n",
       "    .dataframe thead th {\n",
       "        text-align: right;\n",
       "    }\n",
       "</style>\n",
       "<table border=\"1\" class=\"dataframe\">\n",
       "  <thead>\n",
       "    <tr style=\"text-align: right;\">\n",
       "      <th></th>\n",
       "      <th>Age</th>\n",
       "      <th>balance</th>\n",
       "      <th>Response_n</th>\n",
       "      <th>MaritalStatus_n</th>\n",
       "      <th>housing_n</th>\n",
       "    </tr>\n",
       "  </thead>\n",
       "  <tbody>\n",
       "    <tr>\n",
       "      <th>0</th>\n",
       "      <td>59</td>\n",
       "      <td>49</td>\n",
       "      <td>1</td>\n",
       "      <td>1</td>\n",
       "      <td>0</td>\n",
       "    </tr>\n",
       "    <tr>\n",
       "      <th>1</th>\n",
       "      <td>31</td>\n",
       "      <td>90</td>\n",
       "      <td>1</td>\n",
       "      <td>1</td>\n",
       "      <td>0</td>\n",
       "    </tr>\n",
       "    <tr>\n",
       "      <th>2</th>\n",
       "      <td>47</td>\n",
       "      <td>145</td>\n",
       "      <td>1</td>\n",
       "      <td>1</td>\n",
       "      <td>0</td>\n",
       "    </tr>\n",
       "    <tr>\n",
       "      <th>3</th>\n",
       "      <td>45</td>\n",
       "      <td>249</td>\n",
       "      <td>1</td>\n",
       "      <td>0</td>\n",
       "      <td>1</td>\n",
       "    </tr>\n",
       "    <tr>\n",
       "      <th>4</th>\n",
       "      <td>36</td>\n",
       "      <td>559</td>\n",
       "      <td>1</td>\n",
       "      <td>2</td>\n",
       "      <td>1</td>\n",
       "    </tr>\n",
       "    <tr>\n",
       "      <th>...</th>\n",
       "      <td>...</td>\n",
       "      <td>...</td>\n",
       "      <td>...</td>\n",
       "      <td>...</td>\n",
       "      <td>...</td>\n",
       "    </tr>\n",
       "    <tr>\n",
       "      <th>1811</th>\n",
       "      <td>49</td>\n",
       "      <td>11</td>\n",
       "      <td>1</td>\n",
       "      <td>1</td>\n",
       "      <td>1</td>\n",
       "    </tr>\n",
       "    <tr>\n",
       "      <th>1812</th>\n",
       "      <td>43</td>\n",
       "      <td>39</td>\n",
       "      <td>1</td>\n",
       "      <td>2</td>\n",
       "      <td>1</td>\n",
       "    </tr>\n",
       "    <tr>\n",
       "      <th>1813</th>\n",
       "      <td>56</td>\n",
       "      <td>736</td>\n",
       "      <td>1</td>\n",
       "      <td>1</td>\n",
       "      <td>0</td>\n",
       "    </tr>\n",
       "    <tr>\n",
       "      <th>1814</th>\n",
       "      <td>28</td>\n",
       "      <td>44</td>\n",
       "      <td>1</td>\n",
       "      <td>1</td>\n",
       "      <td>1</td>\n",
       "    </tr>\n",
       "    <tr>\n",
       "      <th>1815</th>\n",
       "      <td>29</td>\n",
       "      <td>53</td>\n",
       "      <td>1</td>\n",
       "      <td>1</td>\n",
       "      <td>1</td>\n",
       "    </tr>\n",
       "  </tbody>\n",
       "</table>\n",
       "<p>1816 rows × 5 columns</p>\n",
       "</div>"
      ],
      "text/plain": [
       "      Age  balance  Response_n  MaritalStatus_n  housing_n\n",
       "0      59       49           1                1          0\n",
       "1      31       90           1                1          0\n",
       "2      47      145           1                1          0\n",
       "3      45      249           1                0          1\n",
       "4      36      559           1                2          1\n",
       "...   ...      ...         ...              ...        ...\n",
       "1811   49       11           1                1          1\n",
       "1812   43       39           1                2          1\n",
       "1813   56      736           1                1          0\n",
       "1814   28       44           1                1          1\n",
       "1815   29       53           1                1          1\n",
       "\n",
       "[1816 rows x 5 columns]"
      ]
     },
     "execution_count": 25,
     "metadata": {},
     "output_type": "execute_result"
    }
   ],
   "source": [
    "X_"
   ]
  },
  {
   "cell_type": "code",
   "execution_count": 26,
   "id": "a7f18811",
   "metadata": {},
   "outputs": [],
   "source": [
    "model2 = dt.fit(X_,y)"
   ]
  },
  {
   "cell_type": "code",
   "execution_count": 27,
   "id": "cff1b7d2",
   "metadata": {},
   "outputs": [],
   "source": [
    "pred_model2 = model2.predict(X_)"
   ]
  },
  {
   "cell_type": "code",
   "execution_count": 28,
   "id": "39d6d42b",
   "metadata": {},
   "outputs": [
    {
     "data": {
      "text/plain": [
       "0.986784140969163"
      ]
     },
     "execution_count": 28,
     "metadata": {},
     "output_type": "execute_result"
    }
   ],
   "source": [
    "accuracy_score(y,pred_model2)"
   ]
  },
  {
   "cell_type": "code",
   "execution_count": 30,
   "id": "e84a76ce",
   "metadata": {},
   "outputs": [],
   "source": [
    "#without training data \n",
    "model3 = dt.fit(X_new,y)"
   ]
  },
  {
   "cell_type": "code",
   "execution_count": 31,
   "id": "6a8eaa51",
   "metadata": {},
   "outputs": [
    {
     "data": {
      "text/plain": [
       "0.9950440528634361"
      ]
     },
     "execution_count": 31,
     "metadata": {},
     "output_type": "execute_result"
    }
   ],
   "source": [
    "pred_model3 = model3.predict(X_new)\n",
    "accuracy_score(y,pred_model3)"
   ]
  },
  {
   "cell_type": "code",
   "execution_count": 32,
   "id": "c07b4f06",
   "metadata": {},
   "outputs": [],
   "source": [
    "#Confusion metrix on Main model no 1\n",
    "from sklearn.metrics import classification_report,confusion_matrix "
   ]
  },
  {
   "cell_type": "code",
   "execution_count": 33,
   "id": "8196411e",
   "metadata": {},
   "outputs": [
    {
     "name": "stdout",
     "output_type": "stream",
     "text": [
      "[[221  65]\n",
      " [ 50  28]]\n"
     ]
    }
   ],
   "source": [
    "print(confusion_matrix(Y_test,DT_predict))"
   ]
  },
  {
   "cell_type": "code",
   "execution_count": 34,
   "id": "9eb7c583",
   "metadata": {},
   "outputs": [
    {
     "name": "stdout",
     "output_type": "stream",
     "text": [
      "              precision    recall  f1-score   support\n",
      "\n",
      "           0       0.82      0.77      0.79       286\n",
      "           1       0.30      0.36      0.33        78\n",
      "\n",
      "    accuracy                           0.68       364\n",
      "   macro avg       0.56      0.57      0.56       364\n",
      "weighted avg       0.71      0.68      0.69       364\n",
      "\n"
     ]
    }
   ],
   "source": [
    "#classification report on model - 1\n",
    "print(classification_report(Y_test,DT_predict))"
   ]
  },
  {
   "cell_type": "code",
   "execution_count": 35,
   "id": "2f9c69b3",
   "metadata": {},
   "outputs": [
    {
     "name": "stdout",
     "output_type": "stream",
     "text": [
      "              precision    recall  f1-score   support\n",
      "\n",
      "           0       0.99      1.00      1.00      1387\n",
      "           1       1.00      0.98      0.99       429\n",
      "\n",
      "    accuracy                           1.00      1816\n",
      "   macro avg       1.00      0.99      0.99      1816\n",
      "weighted avg       1.00      1.00      1.00      1816\n",
      "\n",
      "[[1387    0]\n",
      " [   9  420]]\n"
     ]
    }
   ],
   "source": [
    "print(classification_report(y,pred_model3))\n",
    "print(confusion_matrix(y,pred_model3))"
   ]
  },
  {
   "cell_type": "markdown",
   "id": "1ed48756",
   "metadata": {},
   "source": [
    "# With another algorithm "
   ]
  },
  {
   "cell_type": "markdown",
   "id": "95d4f99d",
   "metadata": {},
   "source": [
    "LOGISTIC REGRESSION"
   ]
  },
  {
   "cell_type": "code",
   "execution_count": 111,
   "id": "1cd2d9e4",
   "metadata": {},
   "outputs": [],
   "source": [
    "#we use another Algo\n",
    "from sklearn.linear_model import LogisticRegression"
   ]
  },
  {
   "cell_type": "code",
   "execution_count": 112,
   "id": "24addf13",
   "metadata": {},
   "outputs": [],
   "source": [
    "lr_model = LogisticRegression().fit(X_train,Y_train)"
   ]
  },
  {
   "cell_type": "code",
   "execution_count": 113,
   "id": "5dd71681",
   "metadata": {},
   "outputs": [
    {
     "data": {
      "text/plain": [
       "0.7754820936639119"
      ]
     },
     "execution_count": 113,
     "metadata": {},
     "output_type": "execute_result"
    }
   ],
   "source": [
    "lr_model.score(X_train,Y_train)"
   ]
  },
  {
   "cell_type": "code",
   "execution_count": 114,
   "id": "32271443",
   "metadata": {},
   "outputs": [],
   "source": [
    "lr_pred = lr_model.predict(X_test)"
   ]
  },
  {
   "cell_type": "code",
   "execution_count": 115,
   "id": "a6cc0f45",
   "metadata": {},
   "outputs": [
    {
     "data": {
      "text/plain": [
       "0.717032967032967"
      ]
     },
     "execution_count": 115,
     "metadata": {},
     "output_type": "execute_result"
    }
   ],
   "source": [
    "accuracy_score(Y_test,lr_pred)"
   ]
  },
  {
   "cell_type": "code",
   "execution_count": 116,
   "id": "64146b66",
   "metadata": {},
   "outputs": [
    {
     "name": "stdout",
     "output_type": "stream",
     "text": [
      "[[261   0]\n",
      " [103   0]]\n"
     ]
    }
   ],
   "source": [
    "print(confusion_matrix(Y_test,lr_pred))"
   ]
  },
  {
   "cell_type": "code",
   "execution_count": 134,
   "id": "85d23f13",
   "metadata": {},
   "outputs": [
    {
     "name": "stdout",
     "output_type": "stream",
     "text": [
      "DT feature imp: [0.07826329 0.07474076 0.08906096 0.02341864 0.41148623 0.32303012]\n"
     ]
    }
   ],
   "source": [
    "feature_imp = DT_model.feature_importances_\n",
    "print(\"DT feature imp:\",feature_imp)"
   ]
  },
  {
   "cell_type": "markdown",
   "id": "cb9563c2",
   "metadata": {},
   "source": [
    "SUPPORT VECTOR MACHINE"
   ]
  },
  {
   "cell_type": "code",
   "execution_count": 74,
   "id": "41b1b3b3",
   "metadata": {},
   "outputs": [
    {
     "name": "stdout",
     "output_type": "stream",
     "text": [
      "Training data accuracy: 0.7617079889807162\n",
      "Test data accuracy: 0.7747252747252747\n"
     ]
    }
   ],
   "source": [
    "#Let we try the SVM\n",
    "from sklearn.svm import SVC\n",
    "svm_model = SVC().fit(X_train,Y_train)\n",
    "print(\"Training data accuracy:\",svm_model.score(X_train,Y_train))\n",
    "svm_predict = svm_model.predict(X_test)\n",
    "print(\"Test data accuracy:\",accuracy_score(Y_test,svm_predict))"
   ]
  },
  {
   "cell_type": "code",
   "execution_count": 69,
   "id": "28324a7b",
   "metadata": {},
   "outputs": [],
   "source": [
    "import matplotlib.pyplot as plt"
   ]
  },
  {
   "cell_type": "code",
   "execution_count": 75,
   "id": "01eefb3f",
   "metadata": {},
   "outputs": [
    {
     "data": {
      "text/plain": [
       "<matplotlib.collections.PathCollection at 0x1eaa8ae5b40>"
      ]
     },
     "execution_count": 75,
     "metadata": {},
     "output_type": "execute_result"
    },
    {
     "data": {
      "image/png": "[encoded data removed]",
      "text/plain": [
       "<Figure size 640x480 with 1 Axes>"
      ]
     },
     "metadata": {},
     "output_type": "display_data"
    }
   ],
   "source": [
    "plt.scatter(svm_model.support_vectors_[:,0],svm_model.support_vectors_[:,1],s=200,edgecolors='k',marker=\"o\",label=\"SVM\")"
   ]
  },
  {
   "cell_type": "markdown",
   "id": "8705fb65",
   "metadata": {},
   "source": [
    "RANDOM FOREST"
   ]
  },
  {
   "cell_type": "code",
   "execution_count": 168,
   "id": "991e0033",
   "metadata": {},
   "outputs": [
    {
     "name": "stdout",
     "output_type": "stream",
     "text": [
      "Training data accuracy: 0.9958677685950413\n",
      "Test data accuracy: 0.7664835164835165\n"
     ]
    }
   ],
   "source": [
    "#Random forest \n",
    "from sklearn.ensemble import RandomForestClassifier\n",
    "rf_model = RandomForestClassifier().fit(X_train,Y_train)\n",
    "print(\"Training data accuracy:\",rf_model.score(X_train,Y_train))\n",
    "rf_pred = rf_model.predict(X_test)\n",
    "print(\"Test data accuracy:\",accuracy_score(Y_test,rf_pred))"
   ]
  },
  {
   "cell_type": "code",
   "execution_count": null,
   "id": "caf3e0d8",
   "metadata": {},
   "outputs": [],
   "source": [
    "#Due to less Accuracy let we change the lable process\n",
    "#One-Hot encoding"
   ]
  },
  {
   "cell_type": "code",
   "execution_count": 41,
   "id": "4b90200e",
   "metadata": {},
   "outputs": [],
   "source": [
    "X_enc = X.iloc[:,:7]"
   ]
  },
  {
   "cell_type": "code",
   "execution_count": 48,
   "id": "ad93d830",
   "metadata": {},
   "outputs": [
    {
     "data": {
      "text/plain": [
       "Index(['Response', 'Age', 'Job', 'Marital Status', 'Education', 'balance',\n",
       "       'housing'],\n",
       "      dtype='object')"
      ]
     },
     "execution_count": 48,
     "metadata": {},
     "output_type": "execute_result"
    }
   ],
   "source": [
    "X_enc.columns"
   ]
  },
  {
   "cell_type": "code",
   "execution_count": 49,
   "id": "39175b56",
   "metadata": {},
   "outputs": [],
   "source": [
    "X_enc_new = X_enc[['Response','Job','Marital Status','Education','housing']]"
   ]
  },
  {
   "cell_type": "code",
   "execution_count": 50,
   "id": "31db7c34",
   "metadata": {},
   "outputs": [
    {
     "data": {
      "text/html": [
       "<div>\n",
       "<style scoped>\n",
       "    .dataframe tbody tr th:only-of-type {\n",
       "        vertical-align: middle;\n",
       "    }\n",
       "\n",
       "    .dataframe tbody tr th {\n",
       "        vertical-align: top;\n",
       "    }\n",
       "\n",
       "    .dataframe thead th {\n",
       "        text-align: right;\n",
       "    }\n",
       "</style>\n",
       "<table border=\"1\" class=\"dataframe\">\n",
       "  <thead>\n",
       "    <tr style=\"text-align: right;\">\n",
       "      <th></th>\n",
       "      <th>Response</th>\n",
       "      <th>Job</th>\n",
       "      <th>Marital Status</th>\n",
       "      <th>Education</th>\n",
       "      <th>housing</th>\n",
       "    </tr>\n",
       "  </thead>\n",
       "  <tbody>\n",
       "    <tr>\n",
       "      <th>0</th>\n",
       "      <td>yes</td>\n",
       "      <td>retired</td>\n",
       "      <td>married</td>\n",
       "      <td>secondary</td>\n",
       "      <td>no</td>\n",
       "    </tr>\n",
       "    <tr>\n",
       "      <th>1</th>\n",
       "      <td>yes</td>\n",
       "      <td>services</td>\n",
       "      <td>married</td>\n",
       "      <td>tertiary</td>\n",
       "      <td>no</td>\n",
       "    </tr>\n",
       "    <tr>\n",
       "      <th>2</th>\n",
       "      <td>yes</td>\n",
       "      <td>management</td>\n",
       "      <td>married</td>\n",
       "      <td>primary</td>\n",
       "      <td>no</td>\n",
       "    </tr>\n",
       "    <tr>\n",
       "      <th>3</th>\n",
       "      <td>yes</td>\n",
       "      <td>unemployed</td>\n",
       "      <td>divorced</td>\n",
       "      <td>primary</td>\n",
       "      <td>yes</td>\n",
       "    </tr>\n",
       "    <tr>\n",
       "      <th>4</th>\n",
       "      <td>yes</td>\n",
       "      <td>management</td>\n",
       "      <td>single</td>\n",
       "      <td>tertiary</td>\n",
       "      <td>yes</td>\n",
       "    </tr>\n",
       "    <tr>\n",
       "      <th>...</th>\n",
       "      <td>...</td>\n",
       "      <td>...</td>\n",
       "      <td>...</td>\n",
       "      <td>...</td>\n",
       "      <td>...</td>\n",
       "    </tr>\n",
       "    <tr>\n",
       "      <th>1811</th>\n",
       "      <td>yes</td>\n",
       "      <td>unemployed</td>\n",
       "      <td>married</td>\n",
       "      <td>primary</td>\n",
       "      <td>yes</td>\n",
       "    </tr>\n",
       "    <tr>\n",
       "      <th>1812</th>\n",
       "      <td>yes</td>\n",
       "      <td>management</td>\n",
       "      <td>single</td>\n",
       "      <td>primary</td>\n",
       "      <td>yes</td>\n",
       "    </tr>\n",
       "    <tr>\n",
       "      <th>1813</th>\n",
       "      <td>yes</td>\n",
       "      <td>technician</td>\n",
       "      <td>married</td>\n",
       "      <td>tertiary</td>\n",
       "      <td>no</td>\n",
       "    </tr>\n",
       "    <tr>\n",
       "      <th>1814</th>\n",
       "      <td>yes</td>\n",
       "      <td>unemployed</td>\n",
       "      <td>married</td>\n",
       "      <td>primary</td>\n",
       "      <td>yes</td>\n",
       "    </tr>\n",
       "    <tr>\n",
       "      <th>1815</th>\n",
       "      <td>yes</td>\n",
       "      <td>management</td>\n",
       "      <td>married</td>\n",
       "      <td>tertiary</td>\n",
       "      <td>yes</td>\n",
       "    </tr>\n",
       "  </tbody>\n",
       "</table>\n",
       "<p>1816 rows × 5 columns</p>\n",
       "</div>"
      ],
      "text/plain": [
       "     Response         Job Marital Status  Education housing\n",
       "0         yes     retired        married  secondary      no\n",
       "1         yes    services        married   tertiary      no\n",
       "2         yes  management        married    primary      no\n",
       "3         yes  unemployed       divorced    primary     yes\n",
       "4         yes  management         single   tertiary     yes\n",
       "...       ...         ...            ...        ...     ...\n",
       "1811      yes  unemployed        married    primary     yes\n",
       "1812      yes  management         single    primary     yes\n",
       "1813      yes  technician        married   tertiary      no\n",
       "1814      yes  unemployed        married    primary     yes\n",
       "1815      yes  management        married   tertiary     yes\n",
       "\n",
       "[1816 rows x 5 columns]"
      ]
     },
     "execution_count": 50,
     "metadata": {},
     "output_type": "execute_result"
    }
   ],
   "source": [
    "X_enc_new"
   ]
  },
  {
   "cell_type": "code",
   "execution_count": 61,
   "id": "3e325586",
   "metadata": {},
   "outputs": [],
   "source": [
    "X_enc_new_encoding_ = pd.get_dummies(X_enc,columns=X_enc_new.columns,drop_first=True,dtype=int)"
   ]
  },
  {
   "cell_type": "code",
   "execution_count": 62,
   "id": "4b3becf3",
   "metadata": {},
   "outputs": [
    {
     "data": {
      "text/html": [
       "<div>\n",
       "<style scoped>\n",
       "    .dataframe tbody tr th:only-of-type {\n",
       "        vertical-align: middle;\n",
       "    }\n",
       "\n",
       "    .dataframe tbody tr th {\n",
       "        vertical-align: top;\n",
       "    }\n",
       "\n",
       "    .dataframe thead th {\n",
       "        text-align: right;\n",
       "    }\n",
       "</style>\n",
       "<table border=\"1\" class=\"dataframe\">\n",
       "  <thead>\n",
       "    <tr style=\"text-align: right;\">\n",
       "      <th></th>\n",
       "      <th>Age</th>\n",
       "      <th>balance</th>\n",
       "      <th>Response_yes</th>\n",
       "      <th>Job_bluecollar</th>\n",
       "      <th>Job_entrepreneur</th>\n",
       "      <th>Job_housemaid</th>\n",
       "      <th>Job_management</th>\n",
       "      <th>Job_retired</th>\n",
       "      <th>Job_selfemployed</th>\n",
       "      <th>Job_services</th>\n",
       "      <th>Job_student</th>\n",
       "      <th>Job_technician</th>\n",
       "      <th>Job_unemployed</th>\n",
       "      <th>Job_unknown</th>\n",
       "      <th>Marital Status_married</th>\n",
       "      <th>Marital Status_single</th>\n",
       "      <th>Education_secondary</th>\n",
       "      <th>Education_tertiary</th>\n",
       "      <th>Education_unknown</th>\n",
       "      <th>housing_yes</th>\n",
       "    </tr>\n",
       "  </thead>\n",
       "  <tbody>\n",
       "    <tr>\n",
       "      <th>0</th>\n",
       "      <td>59</td>\n",
       "      <td>49</td>\n",
       "      <td>1</td>\n",
       "      <td>0</td>\n",
       "      <td>0</td>\n",
       "      <td>0</td>\n",
       "      <td>0</td>\n",
       "      <td>1</td>\n",
       "      <td>0</td>\n",
       "      <td>0</td>\n",
       "      <td>0</td>\n",
       "      <td>0</td>\n",
       "      <td>0</td>\n",
       "      <td>0</td>\n",
       "      <td>1</td>\n",
       "      <td>0</td>\n",
       "      <td>1</td>\n",
       "      <td>0</td>\n",
       "      <td>0</td>\n",
       "      <td>0</td>\n",
       "    </tr>\n",
       "    <tr>\n",
       "      <th>1</th>\n",
       "      <td>31</td>\n",
       "      <td>90</td>\n",
       "      <td>1</td>\n",
       "      <td>0</td>\n",
       "      <td>0</td>\n",
       "      <td>0</td>\n",
       "      <td>0</td>\n",
       "      <td>0</td>\n",
       "      <td>0</td>\n",
       "      <td>1</td>\n",
       "      <td>0</td>\n",
       "      <td>0</td>\n",
       "      <td>0</td>\n",
       "      <td>0</td>\n",
       "      <td>1</td>\n",
       "      <td>0</td>\n",
       "      <td>0</td>\n",
       "      <td>1</td>\n",
       "      <td>0</td>\n",
       "      <td>0</td>\n",
       "    </tr>\n",
       "    <tr>\n",
       "      <th>2</th>\n",
       "      <td>47</td>\n",
       "      <td>145</td>\n",
       "      <td>1</td>\n",
       "      <td>0</td>\n",
       "      <td>0</td>\n",
       "      <td>0</td>\n",
       "      <td>1</td>\n",
       "      <td>0</td>\n",
       "      <td>0</td>\n",
       "      <td>0</td>\n",
       "      <td>0</td>\n",
       "      <td>0</td>\n",
       "      <td>0</td>\n",
       "      <td>0</td>\n",
       "      <td>1</td>\n",
       "      <td>0</td>\n",
       "      <td>0</td>\n",
       "      <td>0</td>\n",
       "      <td>0</td>\n",
       "      <td>0</td>\n",
       "    </tr>\n",
       "    <tr>\n",
       "      <th>3</th>\n",
       "      <td>45</td>\n",
       "      <td>249</td>\n",
       "      <td>1</td>\n",
       "      <td>0</td>\n",
       "      <td>0</td>\n",
       "      <td>0</td>\n",
       "      <td>0</td>\n",
       "      <td>0</td>\n",
       "      <td>0</td>\n",
       "      <td>0</td>\n",
       "      <td>0</td>\n",
       "      <td>0</td>\n",
       "      <td>1</td>\n",
       "      <td>0</td>\n",
       "      <td>0</td>\n",
       "      <td>0</td>\n",
       "      <td>0</td>\n",
       "      <td>0</td>\n",
       "      <td>0</td>\n",
       "      <td>1</td>\n",
       "    </tr>\n",
       "    <tr>\n",
       "      <th>4</th>\n",
       "      <td>36</td>\n",
       "      <td>559</td>\n",
       "      <td>1</td>\n",
       "      <td>0</td>\n",
       "      <td>0</td>\n",
       "      <td>0</td>\n",
       "      <td>1</td>\n",
       "      <td>0</td>\n",
       "      <td>0</td>\n",
       "      <td>0</td>\n",
       "      <td>0</td>\n",
       "      <td>0</td>\n",
       "      <td>0</td>\n",
       "      <td>0</td>\n",
       "      <td>0</td>\n",
       "      <td>1</td>\n",
       "      <td>0</td>\n",
       "      <td>1</td>\n",
       "      <td>0</td>\n",
       "      <td>1</td>\n",
       "    </tr>\n",
       "    <tr>\n",
       "      <th>...</th>\n",
       "      <td>...</td>\n",
       "      <td>...</td>\n",
       "      <td>...</td>\n",
       "      <td>...</td>\n",
       "      <td>...</td>\n",
       "      <td>...</td>\n",
       "      <td>...</td>\n",
       "      <td>...</td>\n",
       "      <td>...</td>\n",
       "      <td>...</td>\n",
       "      <td>...</td>\n",
       "      <td>...</td>\n",
       "      <td>...</td>\n",
       "      <td>...</td>\n",
       "      <td>...</td>\n",
       "      <td>...</td>\n",
       "      <td>...</td>\n",
       "      <td>...</td>\n",
       "      <td>...</td>\n",
       "      <td>...</td>\n",
       "    </tr>\n",
       "    <tr>\n",
       "      <th>1811</th>\n",
       "      <td>49</td>\n",
       "      <td>11</td>\n",
       "      <td>1</td>\n",
       "      <td>0</td>\n",
       "      <td>0</td>\n",
       "      <td>0</td>\n",
       "      <td>0</td>\n",
       "      <td>0</td>\n",
       "      <td>0</td>\n",
       "      <td>0</td>\n",
       "      <td>0</td>\n",
       "      <td>0</td>\n",
       "      <td>1</td>\n",
       "      <td>0</td>\n",
       "      <td>1</td>\n",
       "      <td>0</td>\n",
       "      <td>0</td>\n",
       "      <td>0</td>\n",
       "      <td>0</td>\n",
       "      <td>1</td>\n",
       "    </tr>\n",
       "    <tr>\n",
       "      <th>1812</th>\n",
       "      <td>43</td>\n",
       "      <td>39</td>\n",
       "      <td>1</td>\n",
       "      <td>0</td>\n",
       "      <td>0</td>\n",
       "      <td>0</td>\n",
       "      <td>1</td>\n",
       "      <td>0</td>\n",
       "      <td>0</td>\n",
       "      <td>0</td>\n",
       "      <td>0</td>\n",
       "      <td>0</td>\n",
       "      <td>0</td>\n",
       "      <td>0</td>\n",
       "      <td>0</td>\n",
       "      <td>1</td>\n",
       "      <td>0</td>\n",
       "      <td>0</td>\n",
       "      <td>0</td>\n",
       "      <td>1</td>\n",
       "    </tr>\n",
       "    <tr>\n",
       "      <th>1813</th>\n",
       "      <td>56</td>\n",
       "      <td>736</td>\n",
       "      <td>1</td>\n",
       "      <td>0</td>\n",
       "      <td>0</td>\n",
       "      <td>0</td>\n",
       "      <td>0</td>\n",
       "      <td>0</td>\n",
       "      <td>0</td>\n",
       "      <td>0</td>\n",
       "      <td>0</td>\n",
       "      <td>1</td>\n",
       "      <td>0</td>\n",
       "      <td>0</td>\n",
       "      <td>1</td>\n",
       "      <td>0</td>\n",
       "      <td>0</td>\n",
       "      <td>1</td>\n",
       "      <td>0</td>\n",
       "      <td>0</td>\n",
       "    </tr>\n",
       "    <tr>\n",
       "      <th>1814</th>\n",
       "      <td>28</td>\n",
       "      <td>44</td>\n",
       "      <td>1</td>\n",
       "      <td>0</td>\n",
       "      <td>0</td>\n",
       "      <td>0</td>\n",
       "      <td>0</td>\n",
       "      <td>0</td>\n",
       "      <td>0</td>\n",
       "      <td>0</td>\n",
       "      <td>0</td>\n",
       "      <td>0</td>\n",
       "      <td>1</td>\n",
       "      <td>0</td>\n",
       "      <td>1</td>\n",
       "      <td>0</td>\n",
       "      <td>0</td>\n",
       "      <td>0</td>\n",
       "      <td>0</td>\n",
       "      <td>1</td>\n",
       "    </tr>\n",
       "    <tr>\n",
       "      <th>1815</th>\n",
       "      <td>29</td>\n",
       "      <td>53</td>\n",
       "      <td>1</td>\n",
       "      <td>0</td>\n",
       "      <td>0</td>\n",
       "      <td>0</td>\n",
       "      <td>1</td>\n",
       "      <td>0</td>\n",
       "      <td>0</td>\n",
       "      <td>0</td>\n",
       "      <td>0</td>\n",
       "      <td>0</td>\n",
       "      <td>0</td>\n",
       "      <td>0</td>\n",
       "      <td>1</td>\n",
       "      <td>0</td>\n",
       "      <td>0</td>\n",
       "      <td>1</td>\n",
       "      <td>0</td>\n",
       "      <td>1</td>\n",
       "    </tr>\n",
       "  </tbody>\n",
       "</table>\n",
       "<p>1816 rows × 20 columns</p>\n",
       "</div>"
      ],
      "text/plain": [
       "      Age  balance  Response_yes  Job_bluecollar  Job_entrepreneur   \n",
       "0      59       49             1               0                 0  \\\n",
       "1      31       90             1               0                 0   \n",
       "2      47      145             1               0                 0   \n",
       "3      45      249             1               0                 0   \n",
       "4      36      559             1               0                 0   \n",
       "...   ...      ...           ...             ...               ...   \n",
       "1811   49       11             1               0                 0   \n",
       "1812   43       39             1               0                 0   \n",
       "1813   56      736             1               0                 0   \n",
       "1814   28       44             1               0                 0   \n",
       "1815   29       53             1               0                 0   \n",
       "\n",
       "      Job_housemaid  Job_management  Job_retired  Job_selfemployed   \n",
       "0                 0               0            1                 0  \\\n",
       "1                 0               0            0                 0   \n",
       "2                 0               1            0                 0   \n",
       "3                 0               0            0                 0   \n",
       "4                 0               1            0                 0   \n",
       "...             ...             ...          ...               ...   \n",
       "1811              0               0            0                 0   \n",
       "1812              0               1            0                 0   \n",
       "1813              0               0            0                 0   \n",
       "1814              0               0            0                 0   \n",
       "1815              0               1            0                 0   \n",
       "\n",
       "      Job_services  Job_student  Job_technician  Job_unemployed  Job_unknown   \n",
       "0                0            0               0               0            0  \\\n",
       "1                1            0               0               0            0   \n",
       "2                0            0               0               0            0   \n",
       "3                0            0               0               1            0   \n",
       "4                0            0               0               0            0   \n",
       "...            ...          ...             ...             ...          ...   \n",
       "1811             0            0               0               1            0   \n",
       "1812             0            0               0               0            0   \n",
       "1813             0            0               1               0            0   \n",
       "1814             0            0               0               1            0   \n",
       "1815             0            0               0               0            0   \n",
       "\n",
       "      Marital Status_married  Marital Status_single  Education_secondary   \n",
       "0                          1                      0                    1  \\\n",
       "1                          1                      0                    0   \n",
       "2                          1                      0                    0   \n",
       "3                          0                      0                    0   \n",
       "4                          0                      1                    0   \n",
       "...                      ...                    ...                  ...   \n",
       "1811                       1                      0                    0   \n",
       "1812                       0                      1                    0   \n",
       "1813                       1                      0                    0   \n",
       "1814                       1                      0                    0   \n",
       "1815                       1                      0                    0   \n",
       "\n",
       "      Education_tertiary  Education_unknown  housing_yes  \n",
       "0                      0                  0            0  \n",
       "1                      1                  0            0  \n",
       "2                      0                  0            0  \n",
       "3                      0                  0            1  \n",
       "4                      1                  0            1  \n",
       "...                  ...                ...          ...  \n",
       "1811                   0                  0            1  \n",
       "1812                   0                  0            1  \n",
       "1813                   1                  0            0  \n",
       "1814                   0                  0            1  \n",
       "1815                   1                  0            1  \n",
       "\n",
       "[1816 rows x 20 columns]"
      ]
     },
     "execution_count": 62,
     "metadata": {},
     "output_type": "execute_result"
    }
   ],
   "source": [
    "X_enc_new_encoding_"
   ]
  },
  {
   "cell_type": "code",
   "execution_count": 63,
   "id": "2610b4dd",
   "metadata": {},
   "outputs": [],
   "source": [
    "X_train,X_test,Y_train,Y_test = train_test_split(X_enc_new_encoding_,y,test_size=0.2)"
   ]
  },
  {
   "cell_type": "code",
   "execution_count": 64,
   "id": "3804d780",
   "metadata": {},
   "outputs": [
    {
     "data": {
      "text/plain": [
       "((1452, 20), (1452,))"
      ]
     },
     "execution_count": 64,
     "metadata": {},
     "output_type": "execute_result"
    }
   ],
   "source": [
    "X_train.shape,Y_train.shape"
   ]
  },
  {
   "cell_type": "code",
   "execution_count": 65,
   "id": "026b9071",
   "metadata": {},
   "outputs": [],
   "source": [
    "model_en = dt.fit(X_train,Y_train)"
   ]
  },
  {
   "cell_type": "code",
   "execution_count": 66,
   "id": "12556d41",
   "metadata": {},
   "outputs": [
    {
     "data": {
      "text/plain": [
       "0.9986225895316805"
      ]
     },
     "execution_count": 66,
     "metadata": {},
     "output_type": "execute_result"
    }
   ],
   "source": [
    "model_en.score(X_train,Y_train)"
   ]
  },
  {
   "cell_type": "code",
   "execution_count": 67,
   "id": "a3758004",
   "metadata": {},
   "outputs": [],
   "source": [
    "pred_en = model_en.predict(X_test)"
   ]
  },
  {
   "cell_type": "code",
   "execution_count": 68,
   "id": "8ed9b900",
   "metadata": {},
   "outputs": [
    {
     "data": {
      "text/plain": [
       "0.6840659340659341"
      ]
     },
     "execution_count": 68,
     "metadata": {},
     "output_type": "execute_result"
    }
   ],
   "source": [
    "accuracy_score(Y_test,pred_en)"
   ]
  },
  {
   "cell_type": "code",
   "execution_count": 90,
   "id": "b6daa659",
   "metadata": {},
   "outputs": [],
   "source": [
    "#Scalling\n",
    "from sklearn.preprocessing import StandardScaler"
   ]
  },
  {
   "cell_type": "code",
   "execution_count": 91,
   "id": "46d6d092",
   "metadata": {},
   "outputs": [],
   "source": [
    "scaler = StandardScaler()"
   ]
  },
  {
   "cell_type": "code",
   "execution_count": 97,
   "id": "46fe04ca",
   "metadata": {},
   "outputs": [],
   "source": [
    "scaler_X_train = scaler.fit_transform(X_train)"
   ]
  },
  {
   "cell_type": "code",
   "execution_count": 94,
   "id": "89717611",
   "metadata": {},
   "outputs": [],
   "source": [
    "scaler_X_test = scaler.transform(X_test)"
   ]
  },
  {
   "cell_type": "code",
   "execution_count": 98,
   "id": "b6358f9a",
   "metadata": {},
   "outputs": [],
   "source": [
    "scaler_model = dt.fit(scaler_X_train,Y_train)"
   ]
  },
  {
   "cell_type": "code",
   "execution_count": 99,
   "id": "0668ab69",
   "metadata": {},
   "outputs": [],
   "source": [
    "scaler_pred = scaler_model.predict(scaler_X_test)"
   ]
  },
  {
   "cell_type": "code",
   "execution_count": 100,
   "id": "e9364319",
   "metadata": {},
   "outputs": [
    {
     "data": {
      "text/plain": [
       "0.7225274725274725"
      ]
     },
     "execution_count": 100,
     "metadata": {},
     "output_type": "execute_result"
    }
   ],
   "source": [
    "accuracy_score(Y_test,scaler_pred)"
   ]
  },
  {
   "cell_type": "code",
   "execution_count": null,
   "id": "901dfa55",
   "metadata": {},
   "outputs": [],
   "source": []
  }
 ],
 "metadata": {
  "kernelspec": {
   "display_name": "Python 3 (ipykernel)",
   "language": "python",
   "name": "python3"
  },
  "language_info": {
   "codemirror_mode": {
    "name": "ipython",
    "version": 3
   },
   "file_extension": ".py",
   "mimetype": "text/x-python",
   "name": "python",
   "nbconvert_exporter": "python",
   "pygments_lexer": "ipython3",
   "version": "3.10.5"
  }
 },
 "nbformat": 4,
 "nbformat_minor": 5
}
